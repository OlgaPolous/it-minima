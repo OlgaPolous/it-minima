{
 "cells": [
  {
   "cell_type": "code",
   "execution_count": 2,
   "id": "2ed3a95f-7400-47ed-8c46-cb84c3e7968a",
   "metadata": {},
   "outputs": [
    {
     "data": {
      "text/plain": [
       "4440"
      ]
     },
     "execution_count": 2,
     "metadata": {},
     "output_type": "execute_result"
    }
   ],
   "source": [
    "185 * 24"
   ]
  },
  {
   "cell_type": "code",
   "execution_count": 3,
   "id": "a2c9c12f-de61-4540-8f4e-6773a3fb2064",
   "metadata": {},
   "outputs": [
    {
     "data": {
      "text/plain": [
       "0.9999610743479953"
      ]
     },
     "execution_count": 3,
     "metadata": {},
     "output_type": "execute_result"
    }
   ],
   "source": [
    "25689 / 25690 "
   ]
  },
  {
   "cell_type": "code",
   "execution_count": 4,
   "id": "288ee219-b76c-488e-bb8d-39cc6b590603",
   "metadata": {},
   "outputs": [
    {
     "data": {
      "text/plain": [
       "0.9999610743479953"
      ]
     },
     "execution_count": 4,
     "metadata": {},
     "output_type": "execute_result"
    }
   ],
   "source": [
    "25689 / 25690 "
   ]
  },
  {
   "cell_type": "code",
   "execution_count": 5,
   "id": "bf8a1270-bed0-4acd-b8af-a731606f3287",
   "metadata": {},
   "outputs": [
    {
     "data": {
      "text/plain": [
       "97"
      ]
     },
     "execution_count": 5,
     "metadata": {},
     "output_type": "execute_result"
    }
   ],
   "source": [
    " 701701 // 7171 "
   ]
  },
  {
   "cell_type": "code",
   "execution_count": 6,
   "id": "eb422e27-13bc-42af-8820-a977c6fa1010",
   "metadata": {},
   "outputs": [
    {
     "data": {
      "text/plain": [
       "16777216"
      ]
     },
     "execution_count": 6,
     "metadata": {},
     "output_type": "execute_result"
    }
   ],
   "source": [
    "8**8"
   ]
  },
  {
   "cell_type": "code",
   "execution_count": 7,
   "id": "684bc207-0ade-47dd-a10f-9f1b976dc233",
   "metadata": {},
   "outputs": [
    {
     "data": {
      "text/plain": [
       "24.999999999999996"
      ]
     },
     "execution_count": 7,
     "metadata": {},
     "output_type": "execute_result"
    }
   ],
   "source": [
    "15625 ** (1/3)"
   ]
  },
  {
   "cell_type": "code",
   "execution_count": 8,
   "id": "c2c09b8d-0bf1-43e8-bfc0-30bef781a1e5",
   "metadata": {},
   "outputs": [
    {
     "data": {
      "text/plain": [
       "9.000000000000002"
      ]
     },
     "execution_count": 8,
     "metadata": {},
     "output_type": "execute_result"
    }
   ],
   "source": [
    "59049**(1/5)"
   ]
  },
  {
   "cell_type": "code",
   "execution_count": null,
   "id": "d8c4d487-d04d-48f0-976f-1a9f96bb8ced",
   "metadata": {},
   "outputs": [],
   "source": [
    "Потому что разный порядок выполнения действий."
   ]
  }
 ],
 "metadata": {
  "kernelspec": {
   "display_name": "Python 3 (ipykernel)",
   "language": "python",
   "name": "python3"
  },
  "language_info": {
   "codemirror_mode": {
    "name": "ipython",
    "version": 3
   },
   "file_extension": ".py",
   "mimetype": "text/x-python",
   "name": "python",
   "nbconvert_exporter": "python",
   "pygments_lexer": "ipython3",
   "version": "3.12.3"
  }
 },
 "nbformat": 4,
 "nbformat_minor": 5
}
