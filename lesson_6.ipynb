{
 "cells": [
  {
   "cell_type": "code",
   "execution_count": 1,
   "id": "5090397e-e98a-4d97-9c49-a5a5322f7c41",
   "metadata": {},
   "outputs": [],
   "source": [
    "# Домашнее задание"
   ]
  },
  {
   "cell_type": "code",
   "execution_count": 4,
   "id": "e998b9c0-26b6-4289-a965-3f01f9ad7bc3",
   "metadata": {},
   "outputs": [
    {
     "name": "stdout",
     "output_type": "stream",
     "text": [
      "Вижу цель.\n"
     ]
    }
   ],
   "source": [
    "fignya = 'Вижу цель.'\n",
    "print(fignya)"
   ]
  },
  {
   "cell_type": "code",
   "execution_count": 5,
   "id": "79278ff6-3c24-4731-a9e9-8cedc5f914eb",
   "metadata": {},
   "outputs": [
    {
     "name": "stdout",
     "output_type": "stream",
     "text": [
      "Вижу цель.Вижу цель.Вижу цель.Вижу цель.Вижу цель.Вижу цель.Вижу цель.Вижу цель.Вижу цель.Вижу цель.Вижу цель.Вижу цель.Вижу цель.Вижу цель.Вижу цель.Вижу цель.Вижу цель.Вижу цель.Вижу цель.Вижу цель.Вижу цель.Вижу цель.Вижу цель.Вижу цель.Вижу цель.Вижу цель.Вижу цель.Вижу цель.Вижу цель.Вижу цель.\n"
     ]
    }
   ],
   "source": [
    "big_fignya = (fignya * 30)\n",
    "print(big_fignya)"
   ]
  },
  {
   "cell_type": "code",
   "execution_count": 14,
   "id": "84eb503e-9544-4db6-aadc-6181dadf5bbb",
   "metadata": {},
   "outputs": [
    {
     "name": "stdout",
     "output_type": "stream",
     "text": [
      "50\n",
      "55\n",
      "62\n",
      "64\n",
      "86\n",
      "82\n"
     ]
    }
   ],
   "source": [
    "prise_gasoline = 50\n",
    "prise_diesel = 55\n",
    "print(prise_gasoline)\n",
    "print(prise_diesel)\n",
    "prise_gasoline += 12\n",
    "prise_diesel += 9\n",
    "print(prise_gasoline)\n",
    "print(prise_diesel)\n",
    "prise_gasoline += (12*2)\n",
    "prise_diesel += (9*2)\n",
    "print(prise_gasoline)\n",
    "print(prise_diesel)"
   ]
  },
  {
   "cell_type": "code",
   "execution_count": 16,
   "id": "ec58629b-aa02-49f9-9b39-0a16ae9dab73",
   "metadata": {},
   "outputs": [
    {
     "name": "stdin",
     "output_type": "stream",
     "text": [
      "Введите имя персонажа:  Ivan\n",
      "Введите рассу персонажа:  Ork\n",
      "Введите пол персонажа:  man\n",
      "Введите возраст персонажа:  25\n",
      "Введите количество конечностей персонажа:  4\n"
     ]
    },
    {
     "name": "stdout",
     "output_type": "stream",
     "text": [
      "Ivan\n",
      "Ork\n",
      "man\n",
      "25\n",
      "4\n"
     ]
    }
   ],
   "source": [
    "character_name = input(\"Введите имя персонажа: \")\n",
    "race = input(\"Введите рассу персонажа: \")\n",
    "gender = input(\"Введите пол персонажа: \")\n",
    "age = input(\"Введите возраст персонажа: \")\n",
    "number_of_limbs = input(\"Введите количество конечностей персонажа: \")\n",
    "print(character_name)\n",
    "print(race)\n",
    "print(gender)\n",
    "print(age)\n",
    "print(number_of_limbs)"
   ]
  },
  {
   "cell_type": "code",
   "execution_count": null,
   "id": "db35265a-7567-4b16-8af8-a28b3bb23c05",
   "metadata": {},
   "outputs": [],
   "source": []
  }
 ],
 "metadata": {
  "kernelspec": {
   "display_name": "Python 3 (ipykernel)",
   "language": "python",
   "name": "python3"
  },
  "language_info": {
   "codemirror_mode": {
    "name": "ipython",
    "version": 3
   },
   "file_extension": ".py",
   "mimetype": "text/x-python",
   "name": "python",
   "nbconvert_exporter": "python",
   "pygments_lexer": "ipython3",
   "version": "3.12.3"
  }
 },
 "nbformat": 4,
 "nbformat_minor": 5
}
