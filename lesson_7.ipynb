{
 "cells": [
  {
   "cell_type": "markdown",
   "id": "86f2e9b7-eeaa-4b97-9c9e-c70eed974f4f",
   "metadata": {},
   "source": [
    "# Домашнее задание "
   ]
  },
  {
   "cell_type": "markdown",
   "id": "66f44cd4-9177-4e92-bb49-de4927a1f4ae",
   "metadata": {},
   "source": [
    "## №1"
   ]
  },
  {
   "cell_type": "code",
   "execution_count": null,
   "id": "62032b5a-e4a5-4c7a-9710-05857404b247",
   "metadata": {},
   "outputs": [],
   "source": [
    "True and False"
   ]
  },
  {
   "cell_type": "code",
   "execution_count": null,
   "id": "86027eff-ef1c-4ed7-9407-8887d96cc96b",
   "metadata": {},
   "outputs": [],
   "source": [
    "False # and вывоит False"
   ]
  },
  {
   "cell_type": "markdown",
   "id": "2bf53030-ebaf-47c4-9be4-385fda1cc242",
   "metadata": {},
   "source": [
    "## №2"
   ]
  },
  {
   "cell_type": "code",
   "execution_count": null,
   "id": "73865267-bbb2-455e-b6fa-ec74732d22b7",
   "metadata": {},
   "outputs": [],
   "source": [
    "True and 100 > 1"
   ]
  },
  {
   "cell_type": "code",
   "execution_count": null,
   "id": "5f5ef5ad-6636-45c7-a2fa-0c9bb5852112",
   "metadata": {},
   "outputs": [],
   "source": [
    "True and True #100>1 "
   ]
  },
  {
   "cell_type": "code",
   "execution_count": null,
   "id": "54a98ca0-bd16-4900-9272-95739a212045",
   "metadata": {},
   "outputs": [],
   "source": [
    "True # and выводит True"
   ]
  },
  {
   "cell_type": "markdown",
   "id": "f360cfa4-7086-4835-8620-ceaabf84246b",
   "metadata": {},
   "source": [
    "## №3"
   ]
  },
  {
   "cell_type": "code",
   "execution_count": null,
   "id": "68cb9e9f-e377-4ef2-b4bd-6e7c3ae587f8",
   "metadata": {},
   "outputs": [],
   "source": [
    "not False or (1 != 1)"
   ]
  },
  {
   "cell_type": "code",
   "execution_count": null,
   "id": "a3b48f71-78a6-4bbc-8d2b-4b9530f54ded",
   "metadata": {},
   "outputs": [],
   "source": [
    "True or (1 != 1) # not False = True"
   ]
  },
  {
   "cell_type": "code",
   "execution_count": null,
   "id": "87db90ed-252b-41c7-afee-31d980cbbc6b",
   "metadata": {},
   "outputs": [],
   "source": [
    "True or False # (1 != 1) = False"
   ]
  },
  {
   "cell_type": "code",
   "execution_count": null,
   "id": "b7667fe2-4368-4bd6-a88f-98aa75b66790",
   "metadata": {},
   "outputs": [],
   "source": [
    "True # or выводит True"
   ]
  },
  {
   "cell_type": "markdown",
   "id": "3523b163-4a34-4ab9-b20c-4f2cc3a032d7",
   "metadata": {},
   "source": [
    "## №4"
   ]
  },
  {
   "cell_type": "code",
   "execution_count": null,
   "id": "a928b3b8-40a3-4864-b6bd-6f2e5d51f410",
   "metadata": {},
   "outputs": [],
   "source": [
    "not True and (1000 > 999)"
   ]
  },
  {
   "cell_type": "code",
   "execution_count": null,
   "id": "4c346a95-e4d6-4500-a032-c9941a5487f4",
   "metadata": {},
   "outputs": [],
   "source": [
    "False and (1000 > 999) # not True = False"
   ]
  },
  {
   "cell_type": "code",
   "execution_count": null,
   "id": "e55c5cd1-eb64-4def-a463-0a86ef670d69",
   "metadata": {},
   "outputs": [],
   "source": [
    "False and True # (1000 > 999) = True"
   ]
  },
  {
   "cell_type": "code",
   "execution_count": null,
   "id": "7fcb5afb-c0c1-49d9-9128-385344e28d82",
   "metadata": {},
   "outputs": [],
   "source": [
    "False #  and вывоит False"
   ]
  },
  {
   "cell_type": "markdown",
   "id": "3796c289-93aa-4109-b3f2-9c01943afabf",
   "metadata": {},
   "source": [
    "## №5"
   ]
  },
  {
   "cell_type": "code",
   "execution_count": null,
   "id": "1220a93c-b8fb-46ea-8909-52958e86feeb",
   "metadata": {},
   "outputs": [],
   "source": [
    "not True == False or False != (2023 > 2022)"
   ]
  },
  {
   "cell_type": "code",
   "execution_count": null,
   "id": "769f1120-5999-41e4-9538-fde6a099725d",
   "metadata": {},
   "outputs": [],
   "source": [
    "False == False or False != (2023 > 2022) # not True = False"
   ]
  },
  {
   "cell_type": "code",
   "execution_count": null,
   "id": "d99b1463-0385-48ad-891c-ddc6ced71668",
   "metadata": {},
   "outputs": [],
   "source": [
    "False == False or False != True # (2023 > 2022) = True"
   ]
  },
  {
   "cell_type": "code",
   "execution_count": null,
   "id": "e83d9a3a-ace7-4520-bd2e-ee24d5db5375",
   "metadata": {},
   "outputs": [],
   "source": [
    "True or True # (False == False) = True a (False != True) = True"
   ]
  },
  {
   "cell_type": "code",
   "execution_count": null,
   "id": "7ca9b360-c227-4783-b118-9fba1d383a62",
   "metadata": {},
   "outputs": [],
   "source": [
    "True # or выводит True"
   ]
  },
  {
   "cell_type": "markdown",
   "id": "9c6ad4cf-4432-4968-b928-59eaeadf0e88",
   "metadata": {},
   "source": [
    "## №6"
   ]
  },
  {
   "cell_type": "code",
   "execution_count": null,
   "id": "45475be3-a723-4455-99cd-b108c5a1eeb8",
   "metadata": {},
   "outputs": [],
   "source": [
    "100 == 100 or False or not True or 1 >= 99999"
   ]
  },
  {
   "cell_type": "code",
   "execution_count": null,
   "id": "6febd197-44ef-4ce9-a365-1d26e89d4937",
   "metadata": {},
   "outputs": [],
   "source": [
    "100 == 100 or False or False or 1 >= 99999 # not True = False"
   ]
  },
  {
   "cell_type": "code",
   "execution_count": null,
   "id": "2e850b21-b32c-4927-9337-9890db055921",
   "metadata": {},
   "outputs": [],
   "source": [
    "True or False or False or False # (100 == 100) = True a (1 >= 99999) = False"
   ]
  },
  {
   "cell_type": "code",
   "execution_count": null,
   "id": "b7f23824-ef3f-40e7-9d6d-9d8af9d1536e",
   "metadata": {},
   "outputs": [],
   "source": [
    "True # or выводит True"
   ]
  },
  {
   "cell_type": "markdown",
   "id": "4275d8c8-f4eb-45c6-88a7-06dcec796484",
   "metadata": {},
   "source": [
    "## №7"
   ]
  },
  {
   "cell_type": "code",
   "execution_count": null,
   "id": "11a32312-5d76-46f5-a7b3-73e9e171307c",
   "metadata": {},
   "outputs": [],
   "source": [
    "not False and (500 > 5000) or not True and ((2000 / 10) > 199)"
   ]
  },
  {
   "cell_type": "code",
   "execution_count": null,
   "id": "fc55e22c-a87b-480a-9e88-b5908218ff8e",
   "metadata": {},
   "outputs": [],
   "source": [
    "True and (500 > 5000) or False and ((2000 / 10) > 199) # not выполняем в первую очередь"
   ]
  },
  {
   "cell_type": "code",
   "execution_count": null,
   "id": "010ba6d1-1577-4e02-8765-1303fa597fe0",
   "metadata": {},
   "outputs": [],
   "source": [
    "True and False or False and True # (500 > 5000) =  False a ((2000 / 10) > 199) = True"
   ]
  },
  {
   "cell_type": "code",
   "execution_count": null,
   "id": "50531200-3efa-4d22-a0bb-976eb2556d77",
   "metadata": {},
   "outputs": [],
   "source": [
    "False or False # (True and False) выводит всегда False"
   ]
  },
  {
   "cell_type": "code",
   "execution_count": null,
   "id": "78b36a01-39eb-4269-af6b-6897f0f9a141",
   "metadata": {},
   "outputs": [],
   "source": [
    "False # or выводит  False"
   ]
  },
  {
   "cell_type": "markdown",
   "id": "855002aa-4269-4082-977c-1d0eddcb1b58",
   "metadata": {},
   "source": [
    "## №8"
   ]
  },
  {
   "cell_type": "code",
   "execution_count": null,
   "id": "0b9acb3a-e5a0-48f5-aa21-1e8b27bb8196",
   "metadata": {},
   "outputs": [],
   "source": [
    "not True or not (False or not False) or not (True and False) and False or True"
   ]
  },
  {
   "cell_type": "code",
   "execution_count": null,
   "id": "595d5eb8-d211-485b-a8be-04b179e5e922",
   "metadata": {},
   "outputs": [],
   "source": [
    "not True or not (False or True) or not (True and False) and False or True #(False or not False) not в скобках"
   ]
  },
  {
   "cell_type": "code",
   "execution_count": null,
   "id": "c1add62d-7675-43c9-b50e-0b957c7e05e9",
   "metadata": {},
   "outputs": [],
   "source": [
    "not True or False or True and False or True #not (False or True)=False, not (True and False) = True"
   ]
  },
  {
   "cell_type": "code",
   "execution_count": null,
   "id": "0eabf62a-892e-44ae-a58e-7aa4aa4bc33a",
   "metadata": {},
   "outputs": [],
   "source": [
    "False or False or True and False or True # not True = False"
   ]
  },
  {
   "cell_type": "code",
   "execution_count": null,
   "id": "4ce3cf22-5587-4963-a1ed-2f0193b9628e",
   "metadata": {},
   "outputs": [],
   "source": [
    "False or False or False or True # True and False = False"
   ]
  },
  {
   "cell_type": "code",
   "execution_count": null,
   "id": "e74f3b04-1a01-4798-8437-c20eb8ec94ab",
   "metadata": {},
   "outputs": [],
   "source": [
    "True # or выводит True"
   ]
  }
 ],
 "metadata": {
  "kernelspec": {
   "display_name": "Python 3 (ipykernel)",
   "language": "python",
   "name": "python3"
  },
  "language_info": {
   "codemirror_mode": {
    "name": "ipython",
    "version": 3
   },
   "file_extension": ".py",
   "mimetype": "text/x-python",
   "name": "python",
   "nbconvert_exporter": "python",
   "pygments_lexer": "ipython3",
   "version": "3.12.3"
  }
 },
 "nbformat": 4,
 "nbformat_minor": 5
}
