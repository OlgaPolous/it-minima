{
 "cells": [
  {
   "cell_type": "code",
   "execution_count": 2,
   "id": "1b9daeb8-003d-444f-8882-af4f0b056364",
   "metadata": {},
   "outputs": [],
   "source": [
    "# Домашнее задание"
   ]
  },
  {
   "cell_type": "markdown",
   "id": "739e550c-48e2-4158-9bbe-ae501be4eef6",
   "metadata": {},
   "source": [
    "# Heading"
   ]
  },
  {
   "cell_type": "code",
   "execution_count": 1,
   "id": "40f87bf4-06da-4ef5-a545-96618796afb1",
   "metadata": {},
   "outputs": [],
   "source": [
    "# Я учусь программированию.\n",
    "# Я добиваюсь цели.\n",
    "# Питон интересный язык"
   ]
  },
  {
   "cell_type": "markdown",
   "id": "efb60010-12c8-46ed-b55c-e32b53983242",
   "metadata": {},
   "source": [
    "- Игра престолов\n",
    "- Во все тяжкие\n",
    "- Сверхъестественное\n",
    "- Ведьмак\n",
    "-  Черное зеркало"
   ]
  },
  {
   "cell_type": "markdown",
   "id": "52d669d7-64d9-4602-8507-529d61a4e417",
   "metadata": {},
   "source": [
    "1. Москва\n",
    "2. Санкт-Петербург\n",
    "3. Екатеринбург\n",
    "4. Ростов-на-Дону\n",
    "5. Калининград\n",
    "6. Нижний Новгород"
   ]
  },
  {
   "cell_type": "markdown",
   "id": "e49f7f38-195d-48b6-83dd-d3544b6cf3bf",
   "metadata": {},
   "source": [
    "Я<br> буду<br> аналитиком<br> данных"
   ]
  },
  {
   "cell_type": "code",
   "execution_count": 2,
   "id": "60b00760-c667-4b84-b6c9-f28f3ac03cd4",
   "metadata": {},
   "outputs": [],
   "source": [
    "from math import *"
   ]
  },
  {
   "cell_type": "code",
   "execution_count": 3,
   "id": "8883b71d-8bee-478f-a89a-22ab5cd21b5c",
   "metadata": {},
   "outputs": [
    {
     "data": {
      "text/plain": [
       "5"
      ]
     },
     "execution_count": 3,
     "metadata": {},
     "output_type": "execute_result"
    }
   ],
   "source": [
    "ceil(254/54)"
   ]
  },
  {
   "cell_type": "code",
   "execution_count": 4,
   "id": "78e6a1e9-d215-47b0-babe-dfa5b6347d34",
   "metadata": {},
   "outputs": [
    {
     "data": {
      "text/plain": [
       "5177"
      ]
     },
     "execution_count": 4,
     "metadata": {},
     "output_type": "execute_result"
    }
   ],
   "source": [
    "floor(17.3**3)"
   ]
  },
  {
   "cell_type": "code",
   "execution_count": 5,
   "id": "f93b91c8-00a9-44c0-9e2a-2ce58b0ffc8a",
   "metadata": {},
   "outputs": [
    {
     "data": {
      "text/plain": [
       "15"
      ]
     },
     "execution_count": 5,
     "metadata": {},
     "output_type": "execute_result"
    }
   ],
   "source": [
    "round(225.5 **(1/2))"
   ]
  },
  {
   "cell_type": "code",
   "execution_count": null,
   "id": "1d841dc2-4c20-4fc9-a91c-3de8d89b3a2d",
   "metadata": {},
   "outputs": [],
   "source": []
  }
 ],
 "metadata": {
  "kernelspec": {
   "display_name": "Python 3 (ipykernel)",
   "language": "python",
   "name": "python3"
  },
  "language_info": {
   "codemirror_mode": {
    "name": "ipython",
    "version": 3
   },
   "file_extension": ".py",
   "mimetype": "text/x-python",
   "name": "python",
   "nbconvert_exporter": "python",
   "pygments_lexer": "ipython3",
   "version": "3.12.3"
  }
 },
 "nbformat": 4,
 "nbformat_minor": 5
}
